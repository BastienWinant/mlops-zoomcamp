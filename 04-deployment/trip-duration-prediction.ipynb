{
 "cells": [
  {
   "cell_type": "code",
   "execution_count": 63,
   "metadata": {},
   "outputs": [],
   "source": [
    "import pandas as pd\n",
    "\n",
    "from sklearn.feature_extraction import DictVectorizer\n",
    "from sklearn.linear_model import LinearRegression, Ridge, Lasso\n",
    "from sklearn.metrics import root_mean_squared_error\n",
    "from sklearn.pipeline import make_pipeline\n",
    "\n",
    "import pickle"
   ]
  },
  {
   "cell_type": "code",
   "execution_count": 64,
   "metadata": {},
   "outputs": [],
   "source": [
    "pd.options.mode.chained_assignment = None  # default='warn'"
   ]
  },
  {
   "cell_type": "code",
   "execution_count": 65,
   "metadata": {},
   "outputs": [],
   "source": [
    "def import_data(url):\n",
    "  return pd.read_parquet(url)"
   ]
  },
  {
   "cell_type": "code",
   "execution_count": 66,
   "metadata": {},
   "outputs": [],
   "source": [
    "def process_data(df):\n",
    "  df['duration'] = (df.lpep_dropoff_datetime - df.lpep_pickup_datetime).apply(lambda x: x.total_seconds() / 60)\n",
    "  df = df.loc[(df.duration >= 1) & (df.duration <= 60), :]\n",
    "\n",
    "  return df"
   ]
  },
  {
   "cell_type": "code",
   "execution_count": 67,
   "metadata": {},
   "outputs": [],
   "source": [
    "def prepare_features(df, dv=None):\n",
    "  categorical_variables = ['PULocationID', 'DOLocationID']\n",
    "  numerical_variables = ['trip_distance']\n",
    "\n",
    "  df[categorical_variables] = df[categorical_variables].astype(str)\n",
    "  df['PU_DO'] = df['PULocationID'] + '_' + df['DOLocationID']\n",
    "\n",
    "  input_variables = ['PU_DO', 'trip_distance']\n",
    "  # input_variables = ['PULocationID', 'DOLocationID']\n",
    "\n",
    "  df_dicts = df[input_variables].to_dict(orient=\"records\")\n",
    "\n",
    "  return df_dicts"
   ]
  },
  {
   "cell_type": "code",
   "execution_count": 68,
   "metadata": {},
   "outputs": [],
   "source": [
    "def transform_features(data_dicts, dv=None):\n",
    "  if dv:\n",
    "    X = dv.transform(data_dicts)\n",
    "  else:\n",
    "    dv = DictVectorizer()\n",
    "    X = dv.fit_transform(data_dicts)\n",
    "  \n",
    "  return X, dv"
   ]
  },
  {
   "cell_type": "code",
   "execution_count": 69,
   "metadata": {},
   "outputs": [],
   "source": [
    "def compute_error(X, y, model):\n",
    "  preds = model.predict(X)\n",
    "  return root_mean_squared_error(preds, y)"
   ]
  },
  {
   "cell_type": "code",
   "execution_count": 70,
   "metadata": {},
   "outputs": [],
   "source": [
    "url_train = \"https://d37ci6vzurychx.cloudfront.net/trip-data/green_tripdata_2023-01.parquet\"\n",
    "url_val = \"https://d37ci6vzurychx.cloudfront.net/trip-data/green_tripdata_2023-02.parquet\"\n",
    "\n",
    "df_train = import_data(url_train)\n",
    "df_val = import_data(url_val)\n",
    "\n",
    "df_train = process_data(df_train)\n",
    "df_val = process_data(df_val)\n",
    "\n",
    "dicts_train = prepare_features(df_train)\n",
    "dicts_val = prepare_features(df_val)\n",
    "\n",
    "y_train = df_train.duration\n",
    "y_val = df_val.duration"
   ]
  },
  {
   "cell_type": "code",
   "execution_count": 71,
   "metadata": {},
   "outputs": [
    {
     "name": "stdout",
     "output_type": "stream",
     "text": [
      "Validation error: 6.03727552054262\n"
     ]
    }
   ],
   "source": [
    "pipeline = make_pipeline(\n",
    "  DictVectorizer(),\n",
    "  LinearRegression()\n",
    ")\n",
    "\n",
    "pipeline.fit(dicts_train, y_train)\n",
    "rmse_val = compute_error(dicts_val, y_val, pipeline)\n",
    "print(f\"Validation error: {rmse_val}\")\n"
   ]
  },
  {
   "cell_type": "code",
   "execution_count": 72,
   "metadata": {},
   "outputs": [],
   "source": [
    "with open(\"web-service/lin_reg.bin\", \"wb\") as f_out:\n",
    "  pickle.dump(pipeline, f_out)"
   ]
  }
 ],
 "metadata": {
  "kernelspec": {
   "display_name": ".env",
   "language": "python",
   "name": "python3"
  },
  "language_info": {
   "codemirror_mode": {
    "name": "ipython",
    "version": 3
   },
   "file_extension": ".py",
   "mimetype": "text/x-python",
   "name": "python",
   "nbconvert_exporter": "python",
   "pygments_lexer": "ipython3",
   "version": "3.9.6"
  }
 },
 "nbformat": 4,
 "nbformat_minor": 2
}
