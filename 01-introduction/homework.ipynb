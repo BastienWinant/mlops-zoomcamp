{
 "cells": [
  {
   "cell_type": "code",
   "execution_count": 62,
   "metadata": {},
   "outputs": [],
   "source": [
    "import pandas as pd\n",
    "\n",
    "import seaborn as sns\n",
    "\n",
    "from sklearn.feature_extraction import DictVectorizer\n",
    "from sklearn.linear_model import LinearRegression, Ridge, Lasso\n",
    "from sklearn.metrics import root_mean_squared_error\n",
    "\n",
    "import pickle"
   ]
  },
  {
   "cell_type": "code",
   "execution_count": 63,
   "metadata": {},
   "outputs": [],
   "source": [
    "def import_data(url):\n",
    "  return pd.read_parquet(url)"
   ]
  },
  {
   "cell_type": "code",
   "execution_count": 64,
   "metadata": {},
   "outputs": [],
   "source": [
    "def process_data(df):\n",
    "  print(df.shape)\n",
    "  nrows = df.shape[0]\n",
    "  df['duration'] = (df.tpep_dropoff_datetime - df.tpep_pickup_datetime).apply(lambda x: x.total_seconds() / 60)\n",
    "  df = df.loc[(df.duration >= 1) & (df.duration <= 60), :]\n",
    "  print(df.duration.std())\n",
    "\n",
    "  categorical = ['PULocationID', 'DOLocationID']\n",
    "  df[categorical] = df[categorical].astype(str)\n",
    "  df['PU_DO'] = df.PULocationID + '_' + df.DOLocationID\n",
    "  \n",
    "  numerical = ['trip_distance', 'duration']\n",
    "\n",
    "  return df[categorical + numerical]"
   ]
  },
  {
   "cell_type": "code",
   "execution_count": 65,
   "metadata": {},
   "outputs": [],
   "source": [
    "def transform_data(df, dv=None):\n",
    "  predictors = ['PULocationID', 'DOLocationID']\n",
    "  target = 'duration'\n",
    "\n",
    "  df_dicts = df[predictors].to_dict(orient='records')\n",
    "\n",
    "  if dv:\n",
    "    X = dv.transform(df_dicts)\n",
    "  else:\n",
    "    dv = DictVectorizer()\n",
    "    X = dv.fit_transform(df_dicts)\n",
    "    print(len(dv.feature_names_))\n",
    "  \n",
    "  y = df[target].values\n",
    "\n",
    "  return X, y, dv"
   ]
  },
  {
   "cell_type": "code",
   "execution_count": 66,
   "metadata": {},
   "outputs": [],
   "source": [
    "def compute_error(X, y, model):\n",
    "  preds = model.predict(X)\n",
    "  error = root_mean_squared_error(preds, y)\n",
    "\n",
    "  return error"
   ]
  },
  {
   "cell_type": "code",
   "execution_count": 69,
   "metadata": {},
   "outputs": [],
   "source": [
    "def plot_distribution(df, col):\n",
    "  sns.kdeplot(data=df, x=col, fill=True).set_title(f'Distribution of {col}')"
   ]
  },
  {
   "cell_type": "code",
   "execution_count": 67,
   "metadata": {},
   "outputs": [
    {
     "name": "stdout",
     "output_type": "stream",
     "text": [
      "(3066766, 19)\n"
     ]
    },
    {
     "name": "stderr",
     "output_type": "stream",
     "text": [
      "/var/folders/qc/25kj3qbn6v7_d1y6n192nrzm0000gn/T/ipykernel_35287/2721830199.py:8: SettingWithCopyWarning: \n",
      "A value is trying to be set on a copy of a slice from a DataFrame.\n",
      "Try using .loc[row_indexer,col_indexer] = value instead\n",
      "\n",
      "See the caveats in the documentation: https://pandas.pydata.org/pandas-docs/stable/user_guide/indexing.html#returning-a-view-versus-a-copy\n",
      "  df[categorical] = df[categorical].astype(str)\n",
      "/var/folders/qc/25kj3qbn6v7_d1y6n192nrzm0000gn/T/ipykernel_35287/2721830199.py:9: SettingWithCopyWarning: \n",
      "A value is trying to be set on a copy of a slice from a DataFrame.\n",
      "Try using .loc[row_indexer,col_indexer] = value instead\n",
      "\n",
      "See the caveats in the documentation: https://pandas.pydata.org/pandas-docs/stable/user_guide/indexing.html#returning-a-view-versus-a-copy\n",
      "  df['PU_DO'] = df.PULocationID + '_' + df.DOLocationID\n"
     ]
    },
    {
     "name": "stdout",
     "output_type": "stream",
     "text": [
      "515\n",
      "(2913955, 19)\n"
     ]
    },
    {
     "name": "stderr",
     "output_type": "stream",
     "text": [
      "/var/folders/qc/25kj3qbn6v7_d1y6n192nrzm0000gn/T/ipykernel_35287/2721830199.py:8: SettingWithCopyWarning: \n",
      "A value is trying to be set on a copy of a slice from a DataFrame.\n",
      "Try using .loc[row_indexer,col_indexer] = value instead\n",
      "\n",
      "See the caveats in the documentation: https://pandas.pydata.org/pandas-docs/stable/user_guide/indexing.html#returning-a-view-versus-a-copy\n",
      "  df[categorical] = df[categorical].astype(str)\n",
      "/var/folders/qc/25kj3qbn6v7_d1y6n192nrzm0000gn/T/ipykernel_35287/2721830199.py:9: SettingWithCopyWarning: \n",
      "A value is trying to be set on a copy of a slice from a DataFrame.\n",
      "Try using .loc[row_indexer,col_indexer] = value instead\n",
      "\n",
      "See the caveats in the documentation: https://pandas.pydata.org/pandas-docs/stable/user_guide/indexing.html#returning-a-view-versus-a-copy\n",
      "  df['PU_DO'] = df.PULocationID + '_' + df.DOLocationID\n"
     ]
    },
    {
     "name": "stdout",
     "output_type": "stream",
     "text": [
      "Training Error: 7.649261934850555 | Validation Error: 7.811817745843695\n",
      "Training Error: 9.93938396863641 | Validation Error: 10.067667681642543\n",
      "Training Error: 7.649320529940204 | Validation Error: 7.8116153973536235\n"
     ]
    }
   ],
   "source": [
    "train_url = \"https://d37ci6vzurychx.cloudfront.net/trip-data/yellow_tripdata_2023-01.parquet\"\n",
    "val_url = \"https://d37ci6vzurychx.cloudfront.net/trip-data/yellow_tripdata_2023-02.parquet\"\n",
    "\n",
    "train_df = import_data(train_url)\n",
    "train_df = process_data(train_df)\n",
    "X_train, y_train, dv = transform_data(train_df)\n",
    "\n",
    "val_df = import_data(val_url)\n",
    "val_df = process_data(val_df)\n",
    "X_val, y_val, _ = transform_data(val_df, dv)\n",
    "\n",
    "lr = LinearRegression().fit(X_train, y_train)\n",
    "train_error = compute_error(X_train, y_train, lr)\n",
    "val_error = compute_error(X_val, y_val, lr)\n",
    "print(f'Training Error: {train_error} | Validation Error: {val_error}')\n",
    "\n",
    "lasso = Lasso().fit(X_train, y_train)\n",
    "train_error = compute_error(X_train, y_train, lasso)\n",
    "val_error = compute_error(X_val, y_val, lasso)\n",
    "print(f'Training Error: {train_error} | Validation Error: {val_error}')\n",
    "\n",
    "ridge = Ridge().fit(X_train, y_train)\n",
    "train_error = compute_error(X_train, y_train, ridge)\n",
    "val_error = compute_error(X_val, y_val, ridge)\n",
    "print(f'Training Error: {train_error} | Validation Error: {val_error}')\n"
   ]
  },
  {
   "cell_type": "code",
   "execution_count": 68,
   "metadata": {},
   "outputs": [],
   "source": [
    "with open('models/lin_reg.bin', 'wb') as f_out:\n",
    "  pickle.dump((dv, lr), f_out)"
   ]
  },
  {
   "cell_type": "code",
   "execution_count": null,
   "metadata": {},
   "outputs": [],
   "source": []
  }
 ],
 "metadata": {
  "kernelspec": {
   "display_name": ".env",
   "language": "python",
   "name": "python3"
  },
  "language_info": {
   "codemirror_mode": {
    "name": "ipython",
    "version": 3
   },
   "file_extension": ".py",
   "mimetype": "text/x-python",
   "name": "python",
   "nbconvert_exporter": "python",
   "pygments_lexer": "ipython3",
   "version": "3.9.6"
  }
 },
 "nbformat": 4,
 "nbformat_minor": 2
}
