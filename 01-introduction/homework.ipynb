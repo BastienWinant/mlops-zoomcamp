{
 "cells": [
  {
   "cell_type": "code",
   "execution_count": 34,
   "metadata": {},
   "outputs": [],
   "source": [
    "import pandas as pd\n",
    "\n",
    "from sklearn.feature_extraction import DictVectorizer\n",
    "from sklearn.linear_model import LinearRegression, Ridge, Lasso\n",
    "from sklearn.metrics import root_mean_squared_error\n",
    "\n",
    "import pickle"
   ]
  },
  {
   "cell_type": "code",
   "execution_count": 35,
   "metadata": {},
   "outputs": [],
   "source": [
    "pd.options.mode.chained_assignment = None  # default='warn'"
   ]
  },
  {
   "cell_type": "code",
   "execution_count": 36,
   "metadata": {},
   "outputs": [],
   "source": [
    "def import_data(url):\n",
    "  return pd.read_parquet(url)"
   ]
  },
  {
   "cell_type": "code",
   "execution_count": 37,
   "metadata": {},
   "outputs": [],
   "source": [
    "def process_data(df):\n",
    "  df['duration'] = (df.tpep_dropoff_datetime - df.tpep_pickup_datetime).apply(lambda x: x.total_seconds() / 60)\n",
    "  df = df.loc[(df.duration >= 1) & (df.duration <= 60), :]\n",
    "\n",
    "  return df"
   ]
  },
  {
   "cell_type": "code",
   "execution_count": 38,
   "metadata": {},
   "outputs": [],
   "source": [
    "def prepare_features(df, dv=None):\n",
    "  categorical_variables = ['PULocationID', 'DOLocationID']\n",
    "  numerical_variables = ['trip_distance']\n",
    "\n",
    "  df[categorical_variables] = df[categorical_variables].astype(str)\n",
    "  df['PU_DO'] = df['PULocationID'] + '_' + df['DOLocationID']\n",
    "\n",
    "  # input_variables = ['PU_DO', 'trip_distance']\n",
    "  input_variables = ['PULocationID', 'DOLocationID']\n",
    "\n",
    "  df_dicts = df[input_variables].to_dict(orient=\"records\")\n",
    "\n",
    "  if dv:\n",
    "    X = dv.transform(df_dicts)\n",
    "  else:\n",
    "    dv = DictVectorizer()\n",
    "    X = dv.fit_transform(df_dicts)\n",
    "  \n",
    "  y = df.duration.values\n",
    "\n",
    "  return X, y, dv"
   ]
  },
  {
   "cell_type": "code",
   "execution_count": 39,
   "metadata": {},
   "outputs": [],
   "source": [
    "def compute_error(X, y, model):\n",
    "  preds = model.predict(X)\n",
    "  return root_mean_squared_error(preds, y)"
   ]
  },
  {
   "cell_type": "code",
   "execution_count": 40,
   "metadata": {},
   "outputs": [
    {
     "name": "stdout",
     "output_type": "stream",
     "text": [
      "(3066766, 19)\n",
      "515\n",
      "Training error: 7.649261934850555 | Validation error: 7.811817745843695\n",
      "Training error: 9.93938396863641 | Validation error: 10.067667681642543\n",
      "Training error: 7.649320529940204 | Validation error: 7.8116153973536235\n"
     ]
    }
   ],
   "source": [
    "url_train = \"https://d37ci6vzurychx.cloudfront.net/trip-data/yellow_tripdata_2023-01.parquet\"\n",
    "url_val = \"https://d37ci6vzurychx.cloudfront.net/trip-data/yellow_tripdata_2023-02.parquet\"\n",
    "\n",
    "df_train = import_data(url_train)\n",
    "df_val = import_data(url_val)\n",
    "print(df_train.shape)\n",
    "\n",
    "df_train = process_data(df_train)\n",
    "df_val = process_data(df_val)\n",
    "\n",
    "X_train, y_train, dv = prepare_features(df_train)\n",
    "X_val, y_val, _ = prepare_features(df_val, dv)\n",
    "print(len(dv.feature_names_))\n",
    "\n",
    "lr = LinearRegression().fit(X_train, y_train)\n",
    "rmse_train = compute_error(X_train, y_train, lr)\n",
    "rmse_val = compute_error(X_val, y_val, lr)\n",
    "print(f\"Training error: {rmse_train} | Validation error: {rmse_val}\")\n",
    "\n",
    "lasso = Lasso().fit(X_train, y_train)\n",
    "rmse_train = compute_error(X_train, y_train, lasso)\n",
    "rmse_val = compute_error(X_val, y_val, lasso)\n",
    "print(f\"Training error: {rmse_train} | Validation error: {rmse_val}\")\n",
    "\n",
    "ridge = Ridge().fit(X_train, y_train)\n",
    "rmse_train = compute_error(X_train, y_train, ridge)\n",
    "rmse_val = compute_error(X_val, y_val, ridge)\n",
    "print(f\"Training error: {rmse_train} | Validation error: {rmse_val}\")"
   ]
  },
  {
   "cell_type": "code",
   "execution_count": 41,
   "metadata": {},
   "outputs": [],
   "source": [
    "with open(\"models/lin_reg.bin\", \"wb\") as f_out:\n",
    "  pickle.dump((dv, lr), f_out)"
   ]
  },
  {
   "cell_type": "code",
   "execution_count": null,
   "metadata": {},
   "outputs": [],
   "source": []
  }
 ],
 "metadata": {
  "kernelspec": {
   "display_name": ".env",
   "language": "python",
   "name": "python3"
  },
  "language_info": {
   "codemirror_mode": {
    "name": "ipython",
    "version": 3
   },
   "file_extension": ".py",
   "mimetype": "text/x-python",
   "name": "python",
   "nbconvert_exporter": "python",
   "pygments_lexer": "ipython3",
   "version": "3.9.6"
  }
 },
 "nbformat": 4,
 "nbformat_minor": 2
}
