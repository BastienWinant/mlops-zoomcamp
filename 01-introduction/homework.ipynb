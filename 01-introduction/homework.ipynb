{
 "cells": [
  {
   "cell_type": "code",
   "execution_count": 50,
   "metadata": {},
   "outputs": [],
   "source": [
    "import pandas as pd\n",
    "\n",
    "import matplotlib.pyplot as plt\n",
    "import seaborn as sns\n",
    "\n",
    "from sklearn.feature_extraction import DictVectorizer\n",
    "from sklearn.linear_model import LinearRegression, Ridge, Lasso\n",
    "from sklearn.metrics import root_mean_squared_error\n",
    "\n",
    "import pickle"
   ]
  },
  {
   "cell_type": "code",
   "execution_count": 51,
   "metadata": {},
   "outputs": [],
   "source": [
    "def import_data(url):\n",
    "  return pd.read_parquet(url)"
   ]
  },
  {
   "cell_type": "code",
   "execution_count": 52,
   "metadata": {},
   "outputs": [],
   "source": [
    "def process_data(df):\n",
    "  print(df.shape)\n",
    "  nrows = df.shape[0]\n",
    "  df['duration'] = (df.tpep_dropoff_datetime - df.tpep_pickup_datetime).apply(lambda x: x.total_seconds() / 60)\n",
    "  df = df.loc[(df.duration >= 1) & (df.duration <= 60), :]\n",
    "\n",
    "  categorical = ['PULocationID', 'DOLocationID']\n",
    "  df[categorical] = df[categorical].astype(str)\n",
    "  df['PU_DO'] = df.PULocationID + '_' + df.DOLocationID\n",
    "  \n",
    "  numerical = ['trip_distance', 'duration']\n",
    "\n",
    "  return df[categorical + numerical]"
   ]
  },
  {
   "cell_type": "code",
   "execution_count": 53,
   "metadata": {},
   "outputs": [],
   "source": [
    "def transform_data(df, dv=None):\n",
    "  predictors = ['PULocationID', 'DOLocationID']\n",
    "  target = 'duration'\n",
    "\n",
    "  df_dicts = df[predictors].to_dict(orient='records')\n",
    "\n",
    "  if dv:\n",
    "    X = dv.transform(df_dicts)\n",
    "  else:\n",
    "    dv = DictVectorizer()\n",
    "    X = dv.fit_transform(df_dicts)\n",
    "    print(len(dv.feature_names_))\n",
    "  \n",
    "  y = df[target].values\n",
    "\n",
    "  return X, y, dv"
   ]
  },
  {
   "cell_type": "code",
   "execution_count": 54,
   "metadata": {},
   "outputs": [],
   "source": [
    "def compute_error(X, y, model):\n",
    "  preds = model.predict(X)\n",
    "  error = root_mean_squared_error(preds, y)\n",
    "\n",
    "  return error"
   ]
  },
  {
   "cell_type": "code",
   "execution_count": 58,
   "metadata": {},
   "outputs": [
    {
     "name": "stderr",
     "output_type": "stream",
     "text": [
      "/var/folders/qc/25kj3qbn6v7_d1y6n192nrzm0000gn/T/ipykernel_35287/3278855677.py:7: SettingWithCopyWarning: \n",
      "A value is trying to be set on a copy of a slice from a DataFrame.\n",
      "Try using .loc[row_indexer,col_indexer] = value instead\n",
      "\n",
      "See the caveats in the documentation: https://pandas.pydata.org/pandas-docs/stable/user_guide/indexing.html#returning-a-view-versus-a-copy\n",
      "  df[categorical] = df[categorical].astype(str)\n",
      "/var/folders/qc/25kj3qbn6v7_d1y6n192nrzm0000gn/T/ipykernel_35287/3278855677.py:8: SettingWithCopyWarning: \n",
      "A value is trying to be set on a copy of a slice from a DataFrame.\n",
      "Try using .loc[row_indexer,col_indexer] = value instead\n",
      "\n",
      "See the caveats in the documentation: https://pandas.pydata.org/pandas-docs/stable/user_guide/indexing.html#returning-a-view-versus-a-copy\n",
      "  df['PU_DO'] = df.PULocationID + '_' + df.DOLocationID\n"
     ]
    },
    {
     "name": "stdout",
     "output_type": "stream",
     "text": [
      "518\n"
     ]
    },
    {
     "name": "stderr",
     "output_type": "stream",
     "text": [
      "/var/folders/qc/25kj3qbn6v7_d1y6n192nrzm0000gn/T/ipykernel_35287/3278855677.py:7: SettingWithCopyWarning: \n",
      "A value is trying to be set on a copy of a slice from a DataFrame.\n",
      "Try using .loc[row_indexer,col_indexer] = value instead\n",
      "\n",
      "See the caveats in the documentation: https://pandas.pydata.org/pandas-docs/stable/user_guide/indexing.html#returning-a-view-versus-a-copy\n",
      "  df[categorical] = df[categorical].astype(str)\n",
      "/var/folders/qc/25kj3qbn6v7_d1y6n192nrzm0000gn/T/ipykernel_35287/3278855677.py:8: SettingWithCopyWarning: \n",
      "A value is trying to be set on a copy of a slice from a DataFrame.\n",
      "Try using .loc[row_indexer,col_indexer] = value instead\n",
      "\n",
      "See the caveats in the documentation: https://pandas.pydata.org/pandas-docs/stable/user_guide/indexing.html#returning-a-view-versus-a-copy\n",
      "  df['PU_DO'] = df.PULocationID + '_' + df.DOLocationID\n"
     ]
    },
    {
     "name": "stdout",
     "output_type": "stream",
     "text": [
      "Training Error: 6.845620148915177 | Validation Error: 7.423729162888127\n",
      "Training Error: 8.865266000371095 | Validation Error: 9.295267574235702\n",
      "Training Error: 6.845688763979081 | Validation Error: 7.423313051810117\n"
     ]
    }
   ],
   "source": [
    "train_url = \"https://d37ci6vzurychx.cloudfront.net/trip-data/yellow_tripdata_2023-01.parquet\"\n",
    "val_url = \"https://d37ci6vzurychx.cloudfront.net/trip-data/yellow_tripdata_2023-02.parquet\"\n",
    "\n",
    "train_df = import_data(train_url)\n",
    "train_df = process_data(train_df)\n",
    "X_train, y_train, dv = transform_data(train_df)\n",
    "\n",
    "val_df = import_data(val_url)\n",
    "val_df = process_data(val_df)\n",
    "X_val, y_val, _ = transform_data(val_df, dv)\n",
    "\n",
    "lr = LinearRegression().fit(X_train, y_train)\n",
    "train_error = compute_error(X_train, y_train, lr)\n",
    "val_error = compute_error(X_val, y_val, lr)\n",
    "print(f'Training Error: {train_error} | Validation Error: {val_error}')\n",
    "\n",
    "lasso = Lasso().fit(X_train, y_train)\n",
    "train_error = compute_error(X_train, y_train, lasso)\n",
    "val_error = compute_error(X_val, y_val, lasso)\n",
    "print(f'Training Error: {train_error} | Validation Error: {val_error}')\n",
    "\n",
    "ridge = Ridge().fit(X_train, y_train)\n",
    "train_error = compute_error(X_train, y_train, ridge)\n",
    "val_error = compute_error(X_val, y_val, ridge)\n",
    "print(f'Training Error: {train_error} | Validation Error: {val_error}')\n"
   ]
  },
  {
   "cell_type": "code",
   "execution_count": 61,
   "metadata": {},
   "outputs": [],
   "source": [
    "with open('models/lin_reg.bin', 'wb') as f_out:\n",
    "  pickle.dump((dv, lr), f_out)"
   ]
  },
  {
   "cell_type": "code",
   "execution_count": null,
   "metadata": {},
   "outputs": [],
   "source": []
  }
 ],
 "metadata": {
  "kernelspec": {
   "display_name": ".env",
   "language": "python",
   "name": "python3"
  },
  "language_info": {
   "codemirror_mode": {
    "name": "ipython",
    "version": 3
   },
   "file_extension": ".py",
   "mimetype": "text/x-python",
   "name": "python",
   "nbconvert_exporter": "python",
   "pygments_lexer": "ipython3",
   "version": "3.9.6"
  }
 },
 "nbformat": 4,
 "nbformat_minor": 2
}
