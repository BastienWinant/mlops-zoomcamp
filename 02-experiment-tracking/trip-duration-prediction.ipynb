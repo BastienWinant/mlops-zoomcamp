{
 "cells": [
  {
   "cell_type": "code",
   "execution_count": 4,
   "metadata": {},
   "outputs": [],
   "source": [
    "import pandas as pd\n",
    "\n",
    "from sklearn.feature_extraction import DictVectorizer\n",
    "from sklearn.linear_model import LinearRegression, Ridge, Lasso\n",
    "from sklearn.metrics import root_mean_squared_error\n",
    "\n",
    "import mlflow\n",
    "\n",
    "from hyperopt import fmin, tpe, hp, STATUS_OK, Trials"
   ]
  },
  {
   "cell_type": "code",
   "execution_count": 5,
   "metadata": {},
   "outputs": [],
   "source": [
    "pd.options.mode.chained_assignment = None  # default='warn'"
   ]
  },
  {
   "cell_type": "code",
   "execution_count": 6,
   "metadata": {},
   "outputs": [],
   "source": [
    "# mlflow ui --backend-store-uri sqlite:///mlflow.db\n",
    "mlflow.set_tracking_uri(uri=\"sqlite:///mlflow.db\")\n",
    "mlflow.set_experiment(\"nyc-taxi-experiment\")"
   ]
  },
  {
   "cell_type": "markdown",
   "metadata": {},
   "source": [
    "## Data Processing"
   ]
  },
  {
   "cell_type": "code",
   "execution_count": 7,
   "metadata": {},
   "outputs": [],
   "source": [
    "def import_data(url):\n",
    "  return pd.read_parquet(url)"
   ]
  },
  {
   "cell_type": "code",
   "execution_count": 8,
   "metadata": {},
   "outputs": [],
   "source": [
    "def process_data(df):\n",
    "  df['duration'] = (df.tpep_dropoff_datetime - df.tpep_pickup_datetime).apply(lambda x: x.total_seconds() / 60)\n",
    "  df = df.loc[(df.duration >= 1) & (df.duration <= 60), :]\n",
    "\n",
    "  categorical = ['PULocationID', 'DOLocationID']\n",
    "  df[categorical] = df[categorical].astype(str)\n",
    "  df['PU_DO'] = df.PULocationID + '_' + df.DOLocationID\n",
    "  categorical.append('PU_DO')\n",
    "  \n",
    "  numerical = ['trip_distance', 'duration']\n",
    "\n",
    "  return df[categorical + numerical]"
   ]
  },
  {
   "cell_type": "code",
   "execution_count": 9,
   "metadata": {},
   "outputs": [],
   "source": [
    "def transform_data(df, dv=None):\n",
    "  # predictors = ['PULocationID', 'DOLocationID']\n",
    "  predictors = ['PU_DO', 'trip_distance']\n",
    "  target = 'duration'\n",
    "\n",
    "  df_dicts = df[predictors].to_dict(orient='records')\n",
    "\n",
    "  if dv:\n",
    "    X = dv.transform(df_dicts)\n",
    "  else:\n",
    "    dv = DictVectorizer()\n",
    "    X = dv.fit_transform(df_dicts)\n",
    "  \n",
    "  y = df[target].values\n",
    "\n",
    "  return X, y, dv"
   ]
  },
  {
   "cell_type": "code",
   "execution_count": 10,
   "metadata": {},
   "outputs": [],
   "source": [
    "def compute_error(X, y, model):\n",
    "  preds = model.predict(X)\n",
    "  error = root_mean_squared_error(preds, y)\n",
    "\n",
    "  return error"
   ]
  },
  {
   "cell_type": "code",
   "execution_count": 11,
   "metadata": {},
   "outputs": [],
   "source": [
    "train_url = \"https://d37ci6vzurychx.cloudfront.net/trip-data/yellow_tripdata_2023-01.parquet\"\n",
    "val_url = \"https://d37ci6vzurychx.cloudfront.net/trip-data/yellow_tripdata_2023-02.parquet\"\n",
    "\n",
    "train_df = import_data(train_url)\n",
    "train_df = process_data(train_df)\n",
    "X_train, y_train, dv = transform_data(train_df)\n",
    "\n",
    "val_df = import_data(val_url)\n",
    "val_df = process_data(val_df)\n",
    "X_val, y_val, _ = transform_data(val_df, dv)"
   ]
  },
  {
   "cell_type": "markdown",
   "metadata": {},
   "source": [
    "## Manual Logging"
   ]
  },
  {
   "cell_type": "code",
   "execution_count": null,
   "metadata": {},
   "outputs": [],
   "source": [
    "alpha = .01\n",
    "model = Lasso(alpha=alpha)\n",
    "\n",
    "\n",
    "model.fit(X_train, y_train)\n",
    "rmse = compute_error(X_val, y_val, model)\n",
    "\n",
    "with mlflow.start_run():\n",
    "  mlflow.set_tag(\"developer\", \"Bastien Winant\")\n",
    "\n",
    "  mlflow.log_params({\n",
    "    \"train_data\": train_url,\n",
    "    \"val_data\": val_url,\n",
    "    \"alpha\": alpha\n",
    "  })\n",
    "\n",
    "\n",
    "  mlflow.log_metric(\"rmse\", rmse)"
   ]
  },
  {
   "cell_type": "markdown",
   "metadata": {},
   "source": []
  }
 ],
 "metadata": {
  "kernelspec": {
   "display_name": ".env",
   "language": "python",
   "name": "python3"
  },
  "language_info": {
   "codemirror_mode": {
    "name": "ipython",
    "version": 3
   },
   "file_extension": ".py",
   "mimetype": "text/x-python",
   "name": "python",
   "nbconvert_exporter": "python",
   "pygments_lexer": "ipython3",
   "version": "3.9.6"
  }
 },
 "nbformat": 4,
 "nbformat_minor": 2
}
