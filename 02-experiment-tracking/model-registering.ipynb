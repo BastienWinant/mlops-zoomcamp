{
 "cells": [
  {
   "cell_type": "markdown",
   "metadata": {},
   "source": [
    "# Model Registry"
   ]
  },
  {
   "cell_type": "code",
   "execution_count": 1,
   "metadata": {},
   "outputs": [
    {
     "name": "stderr",
     "output_type": "stream",
     "text": [
      "/Users/bastienwinant/Desktop/Projects/mlops-zoomcamp/.env/lib/python3.9/site-packages/urllib3/__init__.py:35: NotOpenSSLWarning: urllib3 v2 only supports OpenSSL 1.1.1+, currently the 'ssl' module is compiled with 'LibreSSL 2.8.3'. See: https://github.com/urllib3/urllib3/issues/3020\n",
      "  warnings.warn(\n"
     ]
    }
   ],
   "source": [
    "import mlflow\n",
    "from mlflow.client import MlflowClient\n",
    "from mlflow.entities import ViewType"
   ]
  },
  {
   "cell_type": "code",
   "execution_count": 2,
   "metadata": {},
   "outputs": [],
   "source": [
    "TRACKING_URI = \"sqlite:///mlflow.db\"\n",
    "\n",
    "client = MlflowClient(tracking_uri=TRACKING_URI)\n",
    "mlflow.set_tracking_uri(TRACKING_URI)"
   ]
  },
  {
   "cell_type": "markdown",
   "metadata": {},
   "source": [
    "## Search runs"
   ]
  },
  {
   "cell_type": "code",
   "execution_count": 3,
   "metadata": {},
   "outputs": [],
   "source": [
    "runs = client.search_runs(\n",
    "  experiment_ids='1',\n",
    "  filter_string=\"metrics.rmse < 6.305\",\n",
    "  run_view_type=ViewType.ACTIVE_ONLY,\n",
    "  max_results=5,\n",
    "  order_by=[\"metrics.rmse ASC\"]\n",
    ")"
   ]
  },
  {
   "cell_type": "code",
   "execution_count": 4,
   "metadata": {},
   "outputs": [
    {
     "name": "stdout",
     "output_type": "stream",
     "text": [
      "run id: 9280ec20967743fdab9bd73823d4b27d, rmse: 6.3003\n",
      "run id: 2e2d034044a94dc193b51f8efd7e3226, rmse: 6.3018\n",
      "run id: f95ffeb932004e0785baeb770812cf3a, rmse: 6.3027\n"
     ]
    }
   ],
   "source": [
    "for run in runs:\n",
    "  print(f\"run id: {run.info.run_id}, rmse: {run.data.metrics['rmse']:.4f}\")"
   ]
  },
  {
   "cell_type": "markdown",
   "metadata": {},
   "source": [
    "## Registering models"
   ]
  },
  {
   "cell_type": "code",
   "execution_count": 17,
   "metadata": {},
   "outputs": [
    {
     "name": "stderr",
     "output_type": "stream",
     "text": [
      "Registered model 'nyc-taxi-regressor' already exists. Creating a new version of this model...\n",
      "Created version '1' of model 'nyc-taxi-regressor'.\n"
     ]
    },
    {
     "data": {
      "text/plain": [
       "<ModelVersion: aliases=[], creation_timestamp=1722079187924, current_stage='None', description=None, last_updated_timestamp=1722079187924, name='nyc-taxi-regressor', run_id='9280ec20967743fdab9bd73823d4b27d', run_link=None, source='/Users/bastienwinant/Desktop/Projects/mlops-zoomcamp/02-experiment-tracking/mlruns/1/9280ec20967743fdab9bd73823d4b27d/artifacts/model', status='READY', status_message=None, tags={}, user_id=None, version=1>"
      ]
     },
     "execution_count": 17,
     "metadata": {},
     "output_type": "execute_result"
    }
   ],
   "source": [
    "run_id = runs[0].info.run_id\n",
    "model_uri = f\"runs:/{run_id}/model\"\n",
    "mlflow.register_model(\n",
    "  model_uri=model_uri,\n",
    "  name=\"nyc-taxi-regressor\"\n",
    ")"
   ]
  },
  {
   "cell_type": "code",
   "execution_count": 5,
   "metadata": {},
   "outputs": [
    {
     "name": "stderr",
     "output_type": "stream",
     "text": [
      "/var/folders/qc/25kj3qbn6v7_d1y6n192nrzm0000gn/T/ipykernel_1376/3294275207.py:2: FutureWarning: ``mlflow.tracking.client.MlflowClient.get_latest_versions`` is deprecated since 2.9.0. Model registry stages will be removed in a future major release. To learn more about the deprecation of model registry stages, see our migration guide here: https://mlflow.org/docs/latest/model-registry.html#migrating-from-stages\n",
      "  latest_versions = client.get_latest_versions(name=model_name)\n"
     ]
    }
   ],
   "source": [
    "model_name = \"nyc-taxi-regressor\"\n",
    "latest_versions = client.get_latest_versions(name=model_name)"
   ]
  },
  {
   "cell_type": "code",
   "execution_count": 6,
   "metadata": {},
   "outputs": [
    {
     "name": "stdout",
     "output_type": "stream",
     "text": [
      "version: 1, stage: {}\n"
     ]
    }
   ],
   "source": [
    "for version in latest_versions:\n",
    "  print(f\"version: {version.version}, stage: {version.tags}\")"
   ]
  },
  {
   "cell_type": "code",
   "execution_count": 7,
   "metadata": {},
   "outputs": [],
   "source": [
    "client.set_model_version_tag(\n",
    "  name = \"nyc-taxi-regressor\",\n",
    "  version = '1',\n",
    "  key=\"status\",\n",
    "  value=\"champion\"\n",
    ")"
   ]
  },
  {
   "cell_type": "markdown",
   "metadata": {},
   "source": [
    "## MLFlow in Practice\n",
    "### Scenario 1: Individual Kaggle competitor\n",
    "- no need for remote tracking server, saving locally is enough\n",
    "- no deployment => no model registry\n",
    "### Scenario 2: Cross-functional team with 1 data scientist\n",
    "- requirement for sharing\n",
    "- no need for remote tracking server, locally is enough\n",
    "- remote registry is good, but can be local\n",
    "### Scenario 3: Multiple data scientists working on multiple teams\n",
    "- remote tracking server is required\n",
    "- remote registry is required"
   ]
  },
  {
   "cell_type": "markdown",
   "metadata": {},
   "source": [
    "Components:\n",
    "1. __backend store:__ where mlflow stores all the metadata about experiments (metrics, parameters,...) => local or DB\n",
    "2. __artifacts store:__ local or remote storage (S3)\n",
    "3. __tracking server:__ locally or on a remote host"
   ]
  },
  {
   "cell_type": "markdown",
   "metadata": {},
   "source": []
  }
 ],
 "metadata": {
  "kernelspec": {
   "display_name": ".env",
   "language": "python",
   "name": "python3"
  },
  "language_info": {
   "codemirror_mode": {
    "name": "ipython",
    "version": 3
   },
   "file_extension": ".py",
   "mimetype": "text/x-python",
   "name": "python",
   "nbconvert_exporter": "python",
   "pygments_lexer": "ipython3",
   "version": "3.9.6"
  }
 },
 "nbformat": 4,
 "nbformat_minor": 2
}
